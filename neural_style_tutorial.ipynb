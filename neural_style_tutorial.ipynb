{
 "cells": [
  {
   "cell_type": "code",
   "execution_count": 1,
   "metadata": {},
   "outputs": [],
   "source": [
    "%matplotlib inline\n",
    "from __future__ import print_function\n",
    "\n",
    "import torch\n",
    "import torch.nn as nn\n",
    "import torch.optim as optim\n",
    "\n",
    "import numpy as np\n",
    "\n",
    "from PIL import Image\n",
    "import matplotlib.pyplot as plt\n",
    "from torchvision import transforms, models\n",
    "import copy\n",
    "import time"
   ]
  },
  {
   "cell_type": "code",
   "execution_count": 2,
   "metadata": {
    "scrolled": true
   },
   "outputs": [
    {
     "name": "stdout",
     "output_type": "stream",
     "text": [
      "Running on cuda\n"
     ]
    }
   ],
   "source": [
    "device = torch.device(\"cuda\" if torch.cuda.is_available() else \"cpu\")\n",
    "print(f\"Running on {device}\")"
   ]
  },
  {
   "cell_type": "code",
   "execution_count": 3,
   "metadata": {},
   "outputs": [],
   "source": [
    "# del cnn\n",
    "torch.cuda.empty_cache()\n",
    "cnn = models.vgg19(pretrained=True).features.to(device).eval()"
   ]
  },
  {
   "cell_type": "code",
   "execution_count": 4,
   "metadata": {},
   "outputs": [],
   "source": [
    "def gram_matrix(input):\n",
    "    a, b, c, d = input.size()  # a=batch size(=1)\n",
    "    # b=number of feature maps\n",
    "    # (c,d)=dimensions of a f. map (N=c*d)\n",
    "\n",
    "    features = input.view(a * b, c * d)  # resise F_XL into \\hat F_XL\n",
    "    \n",
    "    G = torch.mm(features, features.t())  # compute the gram product\n",
    "\n",
    "    # we 'normalize' the values of the gram matrix\n",
    "    # by dividing by the number of element in each feature maps.\n",
    "    return G.div(a * b * c * d)"
   ]
  },
  {
   "cell_type": "code",
   "execution_count": 5,
   "metadata": {},
   "outputs": [],
   "source": [
    "cnn_normalization_mean = torch.tensor([0.485, 0.456, 0.406]).to(device)\n",
    "cnn_normalization_std = torch.tensor([0.229, 0.224, 0.225]).to(device)\n",
    "\n",
    "# create a module to normalize input image so we can easily put it in a\n",
    "# nn.Sequential\n",
    "class Normalization(nn.Module):\n",
    "    def __init__(self, mean, std):\n",
    "        super(Normalization, self).__init__()\n",
    "        # .view the mean and std to make them [C x 1 x 1] so that they can\n",
    "        # directly work with image Tensor of shape [B x C x H x W].\n",
    "        # B is batch size. C is number of channels. H is height and W is width.\n",
    "        self.mean = torch.tensor(mean).view(-1, 1, 1)\n",
    "        self.std = torch.tensor(std).view(-1, 1, 1)\n",
    "\n",
    "    def forward(self, img):\n",
    "        # normalize img\n",
    "        return (img - self.mean) / self.std"
   ]
  },
  {
   "cell_type": "code",
   "execution_count": 6,
   "metadata": {},
   "outputs": [],
   "source": [
    "STYLE_LAYERS_TRANSLATION = {'conv_1': 'conv1_1',\n",
    "                            'conv_2': 'conv1_2',\n",
    "\n",
    "                            'conv_3': 'conv2_1',\n",
    "                            'conv_4': 'conv2_2',\n",
    "\n",
    "                            'conv_5': 'conv3_1',\n",
    "                            'conv_6': 'conv3_2',\n",
    "                            'conv_7': 'conv3_3',\n",
    "                            'conv_8': 'conv3_4',\n",
    "\n",
    "                            'conv_9': 'conv4_1',\n",
    "                            'conv_10': 'conv4_2',\n",
    "                            'conv_11': 'conv4_3',\n",
    "                            'conv_12': 'conv4_4',\n",
    "\n",
    "                            'conv_13': 'conv5_1',\n",
    "                            'conv_14': 'conv5_2',\n",
    "                            'conv_15': 'conv5_3',\n",
    "                            'conv_16': 'conv5_4'}"
   ]
  },
  {
   "cell_type": "markdown",
   "metadata": {},
   "source": [
    "# ====================\n",
    "\n"
   ]
  },
  {
   "cell_type": "code",
   "execution_count": 7,
   "metadata": {},
   "outputs": [],
   "source": [
    "class StyleLoss(nn.Module):\n",
    "\n",
    "    def __init__(self, target_feature):\n",
    "        super(StyleLoss, self).__init__()\n",
    "        self.target = gram_matrix(target_feature).detach()\n",
    "\n",
    "    def forward(self, input):\n",
    "        G = gram_matrix(input)\n",
    "        self.loss = nn.functional.mse_loss(G, self.target)\n",
    "        return input"
   ]
  },
  {
   "cell_type": "code",
   "execution_count": 8,
   "metadata": {},
   "outputs": [],
   "source": [
    "class ContextualLoss(nn.Module):    \n",
    "    def __init__(self, target_features, epsilon=1e-5, h=0.2):\n",
    "        super(ContextualLoss, self).__init__()\n",
    "        target = ContextualLoss._vectorize_features(target_features).detach()\n",
    "        self.mu = torch.mean(target, 0)  # We assume feaure_vecotr = column\n",
    "                                         # dim=1 for feature_vector=row\n",
    "        self.target = target - self.mu  # centeralized features\n",
    "        self.epsilon = epsilon\n",
    "        self.h = h\n",
    "        \n",
    "    def forward(self, input):\n",
    "        # {Y} = target features = style\n",
    "        # {X} = source features = noise\n",
    "        # y_j = one feature of the style image\n",
    "        # x_i = one feature of the noise image\n",
    "        \n",
    "        features = ContextualLoss._vectorize_features(input)\n",
    "        \n",
    "        # if |X|!=|Y| sample N from the bigger set\n",
    "        X_features = features - self.mu  # cenetralize the features\n",
    "        N = self.target.shape[1]\n",
    "        \n",
    "#         CXs = torch.zeros(N, N)  # matrix containing in each row the CXij for that \n",
    "#                                  # feature i from the source image (compared to j \n",
    "#                                  # feature from target, which is in the column)\n",
    "        CXs_max = torch.zeros(N)\n",
    "        print(len(X_features.T))\n",
    "        for idx, xi in enumerate(X_features.T):  # iterate over columns\n",
    "            xi = xi.view(-1,1)\n",
    "            \n",
    "            di = xi.repeat(1, N).to(device='cpu')\n",
    "            di = nn.functional.cosine_similarity(di, self.target.to(device='cpu'), dim=0)\n",
    "#             di = nn.functional.cosine_similarity(di, self.target, dim=0)\n",
    "            # SMALL d_ik = similar\n",
    "            \n",
    "            di_tilde = di / (di.min() + self.epsilon)\n",
    "            del di\n",
    "            # dij compared to the minimum d from THIS xi to ALL Y\n",
    "            \n",
    "            wi = torch.exp((1-di_tilde) / self.h)\n",
    "            del di_tilde\n",
    "            # d~_ij=1 -> w_ij=1 ; \n",
    "            # d~_ij > 1 -> 0< W_ij smaller < 1\n",
    "            # d~_ij < 1 -> W_ij bigger > 1 <<<<<<<<<<<< want!\n",
    "        \n",
    "            Zi = wi.sum()\n",
    "            CXi = wi / Zi\n",
    "            del Zi\n",
    "            del wi\n",
    "#             CXs[idx,:] = CXi  \n",
    "            CXs_max = torch.max(CXs_max, CXi.to(device='cpu'))\n",
    "            del CXi\n",
    "        \n",
    "        print('h')\n",
    "        most_similar_xs, _ = CXs_max.max(dim=0)\n",
    "        CX = most_similar_xs.mean()  # most_similar_xs.sum() / len(most_similar_xs)\n",
    "        \n",
    "        self.loss = -torch.log(CX)      \n",
    "        return input\n",
    "    \n",
    "    @staticmethod\n",
    "    def _vectorize_features(features):\n",
    "        batch_size, depth, c, d = features.size() \n",
    "        # batch size(=1)\n",
    "        # depth = number of feature maps\n",
    "        # (c,d)=dimensions of a f. map (N=c*d)\n",
    "        \n",
    "        # resise F_XL into \\hat F_XL\n",
    "        return features.view(batch_size * depth, c * d)[10:50] "
   ]
  },
  {
   "cell_type": "code",
   "execution_count": null,
   "metadata": {},
   "outputs": [],
   "source": []
  },
  {
   "cell_type": "markdown",
   "metadata": {},
   "source": [
    "# ===================="
   ]
  },
  {
   "cell_type": "code",
   "execution_count": 9,
   "metadata": {},
   "outputs": [],
   "source": [
    "# desired size of the output image\n",
    "#imsize = 512 if torch.cuda.is_available() else 128  # use small size if no gpu\n",
    "imsize=64\n",
    "\n",
    "#GAUSSIAN_BLUR = 8\n",
    "\n",
    "loader = transforms.Compose([\n",
    "    transforms.Resize(imsize),  # scale imported image\n",
    "    transforms.ToTensor()])  # transform it into a torch tensor\n",
    "\n",
    "\n",
    "def image_loader(image_name):\n",
    "    image = Image.open(image_name) #.convert('RGB')\n",
    "    #image = image.filter(ImageFilter.GaussianBlur(GAUSSIAN_BLUR))\n",
    "    # fake batch dimension required to fit network's input dimensions\n",
    "    image = loader(image).unsqueeze(0)\n",
    "    return image.to(device, torch.float)\n",
    "\n",
    "\n",
    "style_img = image_loader(\"./images/starry_night_full.jpg\")\n",
    "#content_img = image_loader(\"./images/.jpg\")\n",
    "\n",
    "# assert style_img.size() == content_img.size(), \\\n",
    "#     \"we need to import style and content images of the same size\""
   ]
  },
  {
   "cell_type": "code",
   "execution_count": 10,
   "metadata": {},
   "outputs": [
    {
     "data": {
      "image/png": "[encoded data removed]",
      "text/plain": [
       "<Figure size 432x288 with 1 Axes>"
      ]
     },
     "metadata": {
      "needs_background": "light"
     },
     "output_type": "display_data"
    }
   ],
   "source": [
    "unloader = transforms.ToPILImage()  # reconvert into PIL image\n",
    "\n",
    "plt.ion()\n",
    "\n",
    "def imshow(tensor, title=None):\n",
    "    image = tensor.cpu().clone()  # we clone the tensor to not do changes on it\n",
    "    image = image.squeeze(0)      # remove the fake batch dimension\n",
    "    image = unloader(image)\n",
    "    plt.imshow(image)\n",
    "    if title is not None:\n",
    "        plt.title(title)\n",
    "    plt.pause(0.001) # pause a bit so that plots are updated\n",
    "\n",
    "def imsave(tensor, title):\n",
    "    image = tensor.cpu().clone()\n",
    "    image = image.squeeze(0)\n",
    "    image = unloader(image)\n",
    "    image.save(title)\n",
    "\n",
    "plt.figure()\n",
    "imshow(style_img, title='Style Image')\n",
    "\n",
    "# plt.figure()\n",
    "# imshow(content_img, title='Content Image')"
   ]
  },
  {
   "cell_type": "code",
   "execution_count": 11,
   "metadata": {},
   "outputs": [],
   "source": [
    "# class ContentLoss(nn.Module):\n",
    "\n",
    "#     def __init__(self, target,):\n",
    "#         super(ContentLoss, self).__init__()\n",
    "#         # we 'detach' the target content from the tree used\n",
    "#         # to dynamically compute the gradient: this is a stated value,\n",
    "#         # not a variable. Otherwise the forward method of the criterion\n",
    "#         # will throw an error.\n",
    "#         self.target = target.detach()\n",
    "\n",
    "#     def forward(self, input):\n",
    "#         self.loss = F.mse_loss(input, self.target)\n",
    "#         return input"
   ]
  },
  {
   "cell_type": "code",
   "execution_count": null,
   "metadata": {},
   "outputs": [],
   "source": []
  },
  {
   "cell_type": "code",
   "execution_count": null,
   "metadata": {},
   "outputs": [],
   "source": []
  },
  {
   "cell_type": "code",
   "execution_count": 12,
   "metadata": {},
   "outputs": [],
   "source": [
    "def get_style_model_and_losses(cnn, normalization_mean, normalization_std,\n",
    "                               style_img, #content_img,\n",
    "                               #content_layers,\n",
    "                               style_layers):\n",
    "    cnn = copy.deepcopy(cnn)\n",
    "\n",
    "    # normalization module\n",
    "    normalization = Normalization(normalization_mean, normalization_std).to(device)\n",
    "\n",
    "    # just in order to have an iterable access to or list of content/syle losses\n",
    "#     content_losses = []\n",
    "    style_losses = []\n",
    "\n",
    "    # assuming that cnn is a nn.Sequential, so we make a new nn.Sequential\n",
    "    # to put in modules that are supposed to be activated sequentially\n",
    "    model = nn.Sequential(normalization)\n",
    "\n",
    "    i = 0  # increment every time we see a conv\n",
    "    for layer in cnn.children():\n",
    "        if isinstance(layer, nn.Conv2d):\n",
    "            i += 1\n",
    "            name = 'conv_{}'.format(i)\n",
    "        elif isinstance(layer, nn.ReLU):\n",
    "            name = 'relu_{}'.format(i)\n",
    "            # The in-place version doesn't play very nicely with the ContentLoss\n",
    "            # and StyleLoss we insert below. So we replace with out-of-place\n",
    "            # ones here.\n",
    "            layer = nn.ReLU(inplace=False)\n",
    "        elif isinstance(layer, nn.MaxPool2d):\n",
    "            name = 'pool_{}'.format(i)\n",
    "        elif isinstance(layer, nn.BatchNorm2d):\n",
    "            name = 'bn_{}'.format(i)\n",
    "        else:\n",
    "            raise RuntimeError('Unrecognized layer: {}'.format(layer.__class__.__name__))\n",
    "      \n",
    "\n",
    "        model.add_module(name, layer)\n",
    "\n",
    "#         if name in content_layers:\n",
    "#             # add content loss:\n",
    "#             target = model(content_img).detach()\n",
    "#             content_loss = ContentLoss(target)\n",
    "#             model.add_module(\"content_loss_{}\".format(i), content_loss)\n",
    "#             content_losses.append(content_loss)\n",
    "\n",
    "        if name.startswith('conv') and STYLE_LAYERS_TRANSLATION[name] in style_layers:\n",
    "            # add style loss:\n",
    "            target_feature = model(style_img).detach()\n",
    "#            style_loss = StyleLoss(target_feature)\n",
    "#             model.add_module(\"style_loss_{}\".format(i), style_loss)\n",
    "            contx_loss = ContextualLoss(target_feature)\n",
    "            model.add_module(\"contx_loss_{}\".format(i), contx_loss)\n",
    "\n",
    "#             style_losses.append(style_loss)\n",
    "            style_losses.append(contx_loss)\n",
    "\n",
    "    # now we trim off the layers after the last content and style losses\n",
    "    for i in range(len(model) - 1, -1, -1):\n",
    "#         if isinstance(model[i], StyleLoss): #or isinstance(model[i], ContentLoss):\n",
    "        if isinstance(model[i], contx_loss): #or isinstance(model[i], ContentLoss):\n",
    "            break\n",
    "\n",
    "    model = model[:(i + 1)]\n",
    "\n",
    "    return model, style_losses#, content_losses\n",
    "#     return model, style_losses#, content_losses"
   ]
  },
  {
   "cell_type": "code",
   "execution_count": 13,
   "metadata": {},
   "outputs": [],
   "source": [
    "def get_input_optimizer(input_img):\n",
    "    # this line to show that input is a parameter that requires a gradient\n",
    "    optimizer = optim.LBFGS([input_img.requires_grad_()])\n",
    "    # optimizer = optim.Adam([target], lr=0.003)\n",
    "    return optimizer"
   ]
  },
  {
   "cell_type": "code",
   "execution_count": 14,
   "metadata": {},
   "outputs": [],
   "source": [
    "def run_style_transfer(cnn, normalization_mean, normalization_std,\n",
    "                       #content_img, \n",
    "                       style_img, input_img,\n",
    "                       style_layers, style_weights,\n",
    "                       num_steps=300, style_weight=1000000):#, content_weight=1):\n",
    "    \"\"\"Run the style transfer.\"\"\"\n",
    "    print('Building the style transfer model..')\n",
    "#     model, style_losses, content_losses = get_style_model_and_losses(cnn,\n",
    "    model, style_losses = get_style_model_and_losses(cnn, \n",
    "        normalization_mean, normalization_std, style_img, style_layers)#, content_img)\n",
    "    optimizer = get_input_optimizer(input_img)\n",
    "    \n",
    "    print('Optimizing..')\n",
    "    run = [0]\n",
    "    losses = []\n",
    "    start_time = [time.time()]\n",
    "    while run[0] <= num_steps:\n",
    "\n",
    "        def closure():\n",
    "            # correct the values of updated input image\n",
    "            input_img.data.clamp_(0, 1)\n",
    "\n",
    "            optimizer.zero_grad()\n",
    "            model(input_img)\n",
    "            style_score = 0\n",
    "#             content_score = 0\n",
    "\n",
    "            for i, sl in enumerate(style_losses):\n",
    "                style_score += style_weights[i] * sl.loss\n",
    "#             for cl in content_losses:\n",
    "#                 content_score += cl.loss\n",
    "\n",
    "            style_score *= style_weight\n",
    "#             content_score *= content_weight\n",
    "\n",
    "            loss = style_score # + content_score\n",
    "            losses.append(float(loss))\n",
    "            loss.backward()\n",
    "\n",
    "            run[0] += 1\n",
    "            if run[0] % 50 == 0:\n",
    "                print(\"run {}:\\t\\tStyle loss: {:4f}\".format(run, style_score.item()),end=\"\\t\\t\")\n",
    "                print(f\"Time: {time.time()-start_time[0]}\")\n",
    "                start_time[0] = time.time()\n",
    "#                 print('Style Loss : {:4f} Content Loss: {:4f}'.format(\n",
    "#                     style_score.item(), content_score.item()))\n",
    "                #print('Style Loss : {:4f} '.format(style_score.item()))\n",
    "                #print()\n",
    "            if run[0] % 500 == 0:\n",
    "                vis_img = copy.deepcopy(input_img)\n",
    "                plt.figure()\n",
    "                imshow(vis_img, title=f'On run {run[0]}')\n",
    "        \n",
    "            return style_score #+ content_score\n",
    "\n",
    "        optimizer.step(closure)\n",
    "\n",
    "    # a last correction...\n",
    "    input_img.data.clamp_(0, 1)\n",
    "\n",
    "    return input_img, losses"
   ]
  },
  {
   "cell_type": "code",
   "execution_count": 15,
   "metadata": {},
   "outputs": [
    {
     "name": "stdout",
     "output_type": "stream",
     "text": [
      "torch.Size([1, 3, 64, 80])\n"
     ]
    },
    {
     "data": {
      "image/png": "[encoded data removed]",
      "text/plain": [
       "<Figure size 432x288 with 1 Axes>"
      ]
     },
     "metadata": {
      "needs_background": "light"
     },
     "output_type": "display_data"
    }
   ],
   "source": [
    "# input_img = content_img.clone()\n",
    "# if you want to use white noise instead uncomment the below line:\n",
    "base_img = torch.randn(style_img.data.size(), device=device)\n",
    "#base_img = torch.poisson(base_img) #torch.zeros_like(style_img, device=device) #\n",
    "print(style_img.shape)\n",
    "#base_img[0,:,0:250,:] = 1\n",
    "# add the original input image to the figure:\n",
    "plt.figure()\n",
    "imshow(base_img, title='Input Image')"
   ]
  },
  {
   "cell_type": "code",
   "execution_count": 16,
   "metadata": {
    "scrolled": false
   },
   "outputs": [
    {
     "name": "stdout",
     "output_type": "stream",
     "text": [
      "Building the style transfer model..\n"
     ]
    },
    {
     "name": "stderr",
     "output_type": "stream",
     "text": [
      "F:\\anaconda3\\envs\\deep_learn\\lib\\site-packages\\ipykernel_launcher.py:12: UserWarning: To copy construct from a tensor, it is recommended to use sourceTensor.clone().detach() or sourceTensor.clone().detach().requires_grad_(True), rather than torch.tensor(sourceTensor).\n",
      "  if sys.path[0] == '':\n",
      "F:\\anaconda3\\envs\\deep_learn\\lib\\site-packages\\ipykernel_launcher.py:13: UserWarning: To copy construct from a tensor, it is recommended to use sourceTensor.clone().detach() or sourceTensor.clone().detach().requires_grad_(True), rather than torch.tensor(sourceTensor).\n",
      "  del sys.path[0]\n"
     ]
    },
    {
     "name": "stdout",
     "output_type": "stream",
     "text": [
      "5120\n",
      "h\n"
     ]
    },
    {
     "ename": "TypeError",
     "evalue": "isinstance() arg 2 must be a type or tuple of types",
     "output_type": "error",
     "traceback": [
      "\u001b[1;31m---------------------------------------------------------------------------\u001b[0m",
      "\u001b[1;31mTypeError\u001b[0m                                 Traceback (most recent call last)",
      "\u001b[1;32m<ipython-input-16-6f8fe7a4d50a>\u001b[0m in \u001b[0;36m<module>\u001b[1;34m()\u001b[0m\n\u001b[0;32m     13\u001b[0m                             \u001b[0mstyle_img\u001b[0m\u001b[1;33m,\u001b[0m \u001b[0minput_img\u001b[0m\u001b[1;33m,\u001b[0m\u001b[1;33m\u001b[0m\u001b[1;33m\u001b[0m\u001b[0m\n\u001b[0;32m     14\u001b[0m                             \u001b[0mSTYLE_LAYERS\u001b[0m\u001b[1;33m,\u001b[0m \u001b[0mSTYLE_WEIGHTS\u001b[0m\u001b[1;33m,\u001b[0m\u001b[1;33m\u001b[0m\u001b[1;33m\u001b[0m\u001b[0m\n\u001b[1;32m---> 15\u001b[1;33m                             num_steps=EPOCHS)\n\u001b[0m\u001b[0;32m     16\u001b[0m \u001b[0mend_time\u001b[0m \u001b[1;33m=\u001b[0m \u001b[0mtime\u001b[0m\u001b[1;33m.\u001b[0m\u001b[0mtime\u001b[0m\u001b[1;33m(\u001b[0m\u001b[1;33m)\u001b[0m\u001b[1;33m\u001b[0m\u001b[1;33m\u001b[0m\u001b[0m\n\u001b[0;32m     17\u001b[0m \u001b[0mprint\u001b[0m\u001b[1;33m(\u001b[0m\u001b[1;34mf\"The training process took {end_time-start_time}\"\u001b[0m\u001b[1;33m)\u001b[0m\u001b[1;33m\u001b[0m\u001b[1;33m\u001b[0m\u001b[0m\n",
      "\u001b[1;32m<ipython-input-14-db658a5f4394>\u001b[0m in \u001b[0;36mrun_style_transfer\u001b[1;34m(cnn, normalization_mean, normalization_std, style_img, input_img, style_layers, style_weights, num_steps, style_weight)\u001b[0m\n\u001b[0;32m      8\u001b[0m \u001b[1;31m#     model, style_losses, content_losses = get_style_model_and_losses(cnn,\u001b[0m\u001b[1;33m\u001b[0m\u001b[1;33m\u001b[0m\u001b[1;33m\u001b[0m\u001b[0m\n\u001b[0;32m      9\u001b[0m     model, style_losses = get_style_model_and_losses(cnn, \n\u001b[1;32m---> 10\u001b[1;33m         normalization_mean, normalization_std, style_img, style_layers)#, content_img)\n\u001b[0m\u001b[0;32m     11\u001b[0m     \u001b[0moptimizer\u001b[0m \u001b[1;33m=\u001b[0m \u001b[0mget_input_optimizer\u001b[0m\u001b[1;33m(\u001b[0m\u001b[0minput_img\u001b[0m\u001b[1;33m)\u001b[0m\u001b[1;33m\u001b[0m\u001b[1;33m\u001b[0m\u001b[0m\n\u001b[0;32m     12\u001b[0m \u001b[1;33m\u001b[0m\u001b[0m\n",
      "\u001b[1;32m<ipython-input-12-8d921bc0155c>\u001b[0m in \u001b[0;36mget_style_model_and_losses\u001b[1;34m(cnn, normalization_mean, normalization_std, style_img, style_layers)\u001b[0m\n\u001b[0;32m     58\u001b[0m     \u001b[1;32mfor\u001b[0m \u001b[0mi\u001b[0m \u001b[1;32min\u001b[0m \u001b[0mrange\u001b[0m\u001b[1;33m(\u001b[0m\u001b[0mlen\u001b[0m\u001b[1;33m(\u001b[0m\u001b[0mmodel\u001b[0m\u001b[1;33m)\u001b[0m \u001b[1;33m-\u001b[0m \u001b[1;36m1\u001b[0m\u001b[1;33m,\u001b[0m \u001b[1;33m-\u001b[0m\u001b[1;36m1\u001b[0m\u001b[1;33m,\u001b[0m \u001b[1;33m-\u001b[0m\u001b[1;36m1\u001b[0m\u001b[1;33m)\u001b[0m\u001b[1;33m:\u001b[0m\u001b[1;33m\u001b[0m\u001b[1;33m\u001b[0m\u001b[0m\n\u001b[0;32m     59\u001b[0m \u001b[1;31m#         if isinstance(model[i], StyleLoss): #or isinstance(model[i], ContentLoss):\u001b[0m\u001b[1;33m\u001b[0m\u001b[1;33m\u001b[0m\u001b[1;33m\u001b[0m\u001b[0m\n\u001b[1;32m---> 60\u001b[1;33m         \u001b[1;32mif\u001b[0m \u001b[0misinstance\u001b[0m\u001b[1;33m(\u001b[0m\u001b[0mmodel\u001b[0m\u001b[1;33m[\u001b[0m\u001b[0mi\u001b[0m\u001b[1;33m]\u001b[0m\u001b[1;33m,\u001b[0m \u001b[0mcontx_loss\u001b[0m\u001b[1;33m)\u001b[0m\u001b[1;33m:\u001b[0m \u001b[1;31m#or isinstance(model[i], ContentLoss):\u001b[0m\u001b[1;33m\u001b[0m\u001b[1;33m\u001b[0m\u001b[0m\n\u001b[0m\u001b[0;32m     61\u001b[0m             \u001b[1;32mbreak\u001b[0m\u001b[1;33m\u001b[0m\u001b[1;33m\u001b[0m\u001b[0m\n\u001b[0;32m     62\u001b[0m \u001b[1;33m\u001b[0m\u001b[0m\n",
      "\u001b[1;31mTypeError\u001b[0m: isinstance() arg 2 must be a type or tuple of types"
     ]
    }
   ],
   "source": [
    "\n",
    "input_img = copy.deepcopy(base_img)\n",
    "\n",
    "STYLE_LAYERS = ['conv1_1', 'conv2_1']#, 'conv3_1', 'conv4_1', 'conv5_1']#, 'conv_3', 'conv_4', 'conv_5']\n",
    "# STYLE_LAYERS = ['conv_1', 'conv_2', 'conv_3', 'conv_4', 'conv_5', 'conv_6', 'conv_7', 'conv_8']\n",
    "#STYLE_WEIGHTS = np.array([1,0.75,0.2,0.2,0.2])\n",
    "STYLE_WEIGHTS = np.array([1,1,1,1,1])\n",
    "# STYLE_WEIGHTS = np.ones(len(STYLE_LAYERS))\n",
    "EPOCHS = 1000\n",
    "start_time = time.time()\n",
    "output, losses = run_style_transfer(cnn, cnn_normalization_mean, cnn_normalization_std,\n",
    "#                             content_img, \n",
    "                            style_img, input_img,  \n",
    "                            STYLE_LAYERS, STYLE_WEIGHTS,\n",
    "                            num_steps=EPOCHS)\n",
    "end_time = time.time()\n",
    "print(f\"The training process took {end_time-start_time}\")\n",
    "\n",
    "plt.figure()\n",
    "imshow(output, title='Output Image')\n",
    "\n",
    "fig = plt.figure(figsize=(16,10))\n",
    "fig.add_subplot(2,2,1)\n",
    "plt.plot(losses) \n",
    "plt.title('Losses vs Iter')\n",
    "fig.add_subplot(2,2,2)\n",
    "plt.plot(np.log10(losses)) \n",
    "plt.title('log10(Losses) vs Iter')\n",
    "fig.add_subplot(2,2,3)\n",
    "plt.plot(np.arange(len(losses))[-50:], losses[-50:]) \n",
    "plt.title('Zoomed Losses vs Iter')\n",
    "fig.add_subplot(2,2,4)\n",
    "plt.plot(np.arange(len(losses))[-50:], np.log10(losses[-50:])) \n",
    "plt.title('Zoomed log10(Losses) vs Iter')\n",
    "\n",
    "imsave(output, f'outputs/sn_contxLossv1_{STYLE_LAYERS[-1]}_e{EPOCHS}_w{STYLE_WEIGHTS}.png')\n",
    "fig.savefig(f'outputs/sn_contxLossv1_{STYLE_LAYERS[-1]}_e{EPOCHS}_w{STYLE_WEIGHTS}_fig.png')\n",
    "\n",
    "# sphinx_gallery_thumbnail_number = 4\n",
    "plt.ioff()\n",
    "plt.show()"
   ]
  },
  {
   "cell_type": "code",
   "execution_count": null,
   "metadata": {},
   "outputs": [],
   "source": [
    "print(f'Used GPUmem in GB: {torch.cuda.memory_allocated() /1024 /1024/1024}')\n",
    "torch.cuda.synchronize()\n",
    "print(f'Used GPUmem in GB: {torch.cuda.memory_allocated() /1024 /1024/1024}')\n",
    "torch.cuda.empty_cache()\n",
    "print(f'Used GPUmem in GB: {torch.cuda.memory_allocated() /1024 /1024/1024}')\n",
    "#del cnn\n",
    "torch.cuda.synchronize()\n",
    "print(f'Used GPUmem in GB: {torch.cuda.memory_allocated() /1024 /1024/1024}')\n",
    "torch.cuda.empty_cache()\n",
    "print(f'Used GPUmem in GB: {torch.cuda.memory_allocated() /1024 /1024/1024}')\n",
    "import gc\n",
    "print(f'Cached Memoy: {torch.cuda.memory_cached()/1024/1024/1024}')\n",
    "# for obj in gc.get_objects():\n",
    "#     try:\n",
    "#         if torch.is_tensor(obj) or (hasattr(obj, 'data') and torch.is_tensor(obj.data)):\n",
    "#             print(type(obj), obj.size())\n",
    "#     except:\n",
    "#         pass"
   ]
  },
  {
   "cell_type": "code",
   "execution_count": null,
   "metadata": {},
   "outputs": [],
   "source": [
    "# a = copy.deepcopy(output)\n",
    "# imshow(output-a, title='Sub Img')\n",
    "#imsave(output, f'outputs/fixed_sn_up2{STYLE_LAYERS[-1]}_e{EPOCHS}_w{STYLE_WEIGHTS}.png')\n",
    "# fig = plt.figure(figsize=(18,10))\n",
    "# fig.add_subplot(2,2,1)\n",
    "# plt.plot(losses) \n",
    "# plt.title('Losses vs Iter')\n",
    "# fig.add_subplot(2,2,2)\n",
    "# plt.plot(np.log10(losses)) \n",
    "# plt.title('log10(Losses) vs Iter')\n",
    "# fig.add_subplot(2,2,3)\n",
    "# plt.plot(np.arange(len(losses))[-50:], losses[-50:]) \n",
    "# plt.title('Zoomed Losses vs Iter')\n",
    "# fig.add_subplot(2,2,4)\n",
    "# plt.plot(np.arange(len(losses))[-50:], np.log10(losses[-50:])) \n",
    "# plt.title('Zoomed log10(Losses) vs Iter')\n",
    "# fig.savefig(f'outputs/fixed_sn_up2{STYLE_LAYERS[-1]}_e{EPOCHS}_w{STYLE_WEIGHTS}_fig.png')\n",
    "# plt.figure()\n",
    "# imshow(output, title='Output Image')\n",
    "\n",
    "# fig = plt.figure(figsize=(16,10))\n",
    "# fig.add_subplot(2,2,1)\n",
    "# plt.plot(losses) \n",
    "# plt.title('Losses vs Iter')\n",
    "# fig.add_subplot(2,2,2)\n",
    "# plt.plot(np.log10(losses)) \n",
    "# plt.title('log10(Losses) vs Iter')\n",
    "# fig.add_subplot(2,2,3)\n",
    "# plt.plot(np.arange(len(losses))[-500:], losses[-500:]) \n",
    "# plt.title('Zoomed Losses vs Iter')\n",
    "# fig.add_subplot(2,2,4)\n",
    "# plt.plot(np.arange(len(losses))[-500:], np.log10(losses[-500:])) \n",
    "# plt.title('Zoomed log10(Losses) vs Iter')\n",
    "\n",
    "# #imsave(output, f'outputs/black_up2{STYLE_LAYERS[-1]}_e{EPOCHS}_w{STYLE_WEIGHTS}.png')\n",
    "# #fig.savefig(f'outputs/black_up2{STYLE_LAYERS[-1]}_e{EPOCHS}_w{STYLE_WEIGHTS}_fig.png')\n",
    "\n",
    "# # sphinx_gallery_thumbnail_number = 4\n",
    "# plt.ioff()\n",
    "# plt.show()"
   ]
  },
  {
   "cell_type": "code",
   "execution_count": null,
   "metadata": {},
   "outputs": [],
   "source": [
    "%qtconsole"
   ]
  }
 ],
 "metadata": {
  "kernelspec": {
   "display_name": "Python 3",
   "language": "python",
   "name": "python3"
  },
  "language_info": {
   "codemirror_mode": {
    "name": "ipython",
    "version": 3
   },
   "file_extension": ".py",
   "mimetype": "text/x-python",
   "name": "python",
   "nbconvert_exporter": "python",
   "pygments_lexer": "ipython3",
   "version": "3.6.13"
  }
 },
 "nbformat": 4,
 "nbformat_minor": 4
}
